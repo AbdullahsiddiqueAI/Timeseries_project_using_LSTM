{
 "cells": [
  {
   "cell_type": "code",
   "execution_count": null,
   "id": "ed72bff6",
   "metadata": {},
   "outputs": [],
   "source": [
    "# .)RNN is well when we hve to deal with sequence of data and LSTM is its type so it \n",
    "# deals perfectly with sequence of data .\n",
    "import pandas as pd\n",
    "import numpy as np\n",
    "import matplotlib.pyplot as plt"
   ]
  },
  {
   "cell_type": "code",
   "execution_count": null,
   "id": "78015887",
   "metadata": {},
   "outputs": [],
   "source": [
    "# Time Series Prediction using LSTM (vanilla Recurrent Neural Network)\n",
    "# Long short-term memory (LSTM) is an artificial recurrent neural network (RNN)\n",
    "# architecture used in the field of deep learning. Unlike standard feedforward neural\n",
    "# networks, LSTM has feedback connections.\n",
    "\n",
    "# LSTM are meant to selectively capture long and short term dependencies in a sequence.\n",
    "\n",
    "# Problems of traditional regression based forecasting models\n",
    "\n",
    "# Do not support\n",
    "\n",
    "# 1. noise, missing data or outliers.\n",
    "\n",
    "# 2. non-linear relationship.\n",
    "\n",
    "# 3. mutiple fields to influnce the predictions.\n",
    "\n",
    "# Neural networks add the capability to learn possibly noisy and nonlinear relationships \n",
    "# with arbitrarily defined but fixed numbers of inputs and outputs supporting multivariate \n",
    "# and multi-step forecasting."
   ]
  },
  {
   "cell_type": "code",
   "execution_count": null,
   "id": "18e13f4e",
   "metadata": {},
   "outputs": [],
   "source": [
    "# dataset linbk \n",
    "# https://github.com/plotly/datasets/blob/master/monthly-milk-production-pounds.csv"
   ]
  },
  {
   "cell_type": "code",
   "execution_count": null,
   "id": "2be61288",
   "metadata": {},
   "outputs": [],
   "source": [
    "df = pd.read_csv('./data/monthly_milk_production.csv',index_col='Date',parse_dates=True)\n",
    "# .)the blw MS means it will now show the data monthly wise . \n",
    "df.index.freq='MS'"
   ]
  },
  {
   "cell_type": "code",
   "execution_count": null,
   "id": "938c1786",
   "metadata": {},
   "outputs": [],
   "source": [
    "df.head()"
   ]
  },
  {
   "cell_type": "code",
   "execution_count": null,
   "id": "19382923",
   "metadata": {},
   "outputs": [],
   "source": []
  },
  {
   "cell_type": "code",
   "execution_count": null,
   "id": "540d4e3b",
   "metadata": {},
   "outputs": [],
   "source": [
    "df.plot(figsize=(8,8))"
   ]
  },
  {
   "cell_type": "code",
   "execution_count": null,
   "id": "5b934aed",
   "metadata": {},
   "outputs": [],
   "source": [
    "# .)the above graph was incresng with time to see in more detai about its seasonal trend \n",
    "# what its is trend nature we use the blw fun seasonal_decompose. \n",
    "from statsmodels.tsa.seasonal import seasonal_decompose"
   ]
  },
  {
   "cell_type": "code",
   "execution_count": null,
   "id": "f6a0f75a",
   "metadata": {},
   "outputs": [],
   "source": [
    "results = seasonal_decompose(df['Production'])\n",
    "results.plot()"
   ]
  },
  {
   "cell_type": "code",
   "execution_count": null,
   "id": "981cafc5",
   "metadata": {},
   "outputs": [],
   "source": [
    "# .)The ARIMA models are regression models  in order to use that we hve to firstly \n",
    "# convert the data into stationary data but in RNN LSTM it deals with sequence of data\n",
    "# so no need to do like this conversion into stationary data we can do it directly.\n",
    "# if model doent perform battern then in RNN we can use ststionary data . "
   ]
  },
  {
   "cell_type": "code",
   "execution_count": null,
   "id": "7215d0fb",
   "metadata": {},
   "outputs": [],
   "source": [
    "len(df)"
   ]
  },
  {
   "cell_type": "code",
   "execution_count": null,
   "id": "ee5fb7a8",
   "metadata": {},
   "outputs": [],
   "source": [
    "train = df.iloc[:156]\n",
    "test = df.iloc[156:]"
   ]
  },
  {
   "cell_type": "code",
   "execution_count": null,
   "id": "e1f5f4bb",
   "metadata": {},
   "outputs": [],
   "source": [
    "# good step to preproces in min max.\n",
    "from sklearn.preprocessing import MinMaxScaler\n",
    "scaler = MinMaxScaler()"
   ]
  },
  {
   "cell_type": "code",
   "execution_count": null,
   "id": "fb6ddd04",
   "metadata": {},
   "outputs": [],
   "source": [
    "df.head(),df.tail()"
   ]
  },
  {
   "cell_type": "code",
   "execution_count": null,
   "id": "f89194a6",
   "metadata": {},
   "outputs": [],
   "source": [
    "scaler.fit(train)\n",
    "scaled_train = scaler.transform(train)\n",
    "scaled_test = scaler.transform(test)"
   ]
  },
  {
   "cell_type": "code",
   "execution_count": null,
   "id": "702dad9c",
   "metadata": {},
   "outputs": [],
   "source": [
    "from keras.preprocessing.sequence import TimeseriesGenerator\n",
    "# define generator\n",
    "n_input = 3\n",
    "n_features = 1\n",
    "generator = TimeseriesGenerator(scaled_train, scaled_train, length=n_input, batch_size=1)"
   ]
  },
  {
   "cell_type": "code",
   "execution_count": null,
   "id": "9eeca3b2",
   "metadata": {},
   "outputs": [],
   "source": [
    "\n",
    "X,y = generator[0]\n",
    "print(f'Given the Array: \\n{X.flatten()}')\n",
    "print(f'Predict this y: \\n {y}')"
   ]
  },
  {
   "cell_type": "code",
   "execution_count": null,
   "id": "1f2b2467",
   "metadata": {},
   "outputs": [],
   "source": [
    "# .)First 1 is the no of rows and 3 is input features and then 1 is no of features or output\n",
    "X.shape"
   ]
  },
  {
   "cell_type": "code",
   "execution_count": null,
   "id": "b1514489",
   "metadata": {},
   "outputs": [],
   "source": [
    "# We do the same thing, but now instead for 12 months\n",
    "n_input = 12\n",
    "generator = TimeseriesGenerator(scaled_train, scaled_train, length=n_input, batch_size=1)"
   ]
  },
  {
   "cell_type": "code",
   "execution_count": null,
   "id": "3bd48123",
   "metadata": {},
   "outputs": [],
   "source": [
    "X,y = generator[0]\n",
    "print(f'Given the Array: \\n{X.flatten()}')\n",
    "print(f'Predict this y: \\n {y}')"
   ]
  },
  {
   "cell_type": "code",
   "execution_count": null,
   "id": "88cfb708",
   "metadata": {},
   "outputs": [],
   "source": [
    "from keras.models import Sequential\n",
    "from keras.layers import Dense\n",
    "from keras.layers import LSTM"
   ]
  },
  {
   "cell_type": "code",
   "execution_count": null,
   "id": "cca54912",
   "metadata": {},
   "outputs": [],
   "source": [
    "# define model\n",
    "model = Sequential()\n",
    "# .)Blw 100 is LSTM neurons.\n",
    "model.add(LSTM(100, activation='relu', input_shape=(n_input, n_features)))\n",
    "model.add(Dense(1))\n",
    "model.compile(optimizer='adam', loss='mse')"
   ]
  },
  {
   "cell_type": "code",
   "execution_count": null,
   "id": "78426b1e",
   "metadata": {},
   "outputs": [],
   "source": [
    "model.summary()"
   ]
  },
  {
   "cell_type": "code",
   "execution_count": null,
   "id": "6523e6c5",
   "metadata": {},
   "outputs": [],
   "source": [
    "# fit model\n",
    "model.fit(generator,epochs=50)"
   ]
  },
  {
   "cell_type": "code",
   "execution_count": null,
   "id": "2ed69f8a",
   "metadata": {},
   "outputs": [],
   "source": [
    "loss_per_epoch = model.history.history['loss']\n",
    "plt.plot(range(len(loss_per_epoch)),loss_per_epoch)"
   ]
  },
  {
   "cell_type": "code",
   "execution_count": null,
   "id": "22b6a4da",
   "metadata": {},
   "outputs": [],
   "source": [
    "# Tking last 12 month value and predicting the test[0] value . \n",
    "last_train_batch = scaled_train[-12:]"
   ]
  },
  {
   "cell_type": "code",
   "execution_count": null,
   "id": "cd6694f4",
   "metadata": {},
   "outputs": [],
   "source": [
    "last_train_batch = last_train_batch.reshape((1, n_input, n_features))"
   ]
  },
  {
   "cell_type": "code",
   "execution_count": null,
   "id": "ade4d1cd",
   "metadata": {},
   "outputs": [],
   "source": [
    "model.predict(last_train_batch)"
   ]
  },
  {
   "cell_type": "code",
   "execution_count": null,
   "id": "533dc8f8",
   "metadata": {},
   "outputs": [],
   "source": [
    "scaled_test[0]"
   ]
  },
  {
   "cell_type": "code",
   "execution_count": null,
   "id": "f4be8752",
   "metadata": {},
   "outputs": [],
   "source": [
    "test_predictions = []\n",
    "first_eval_batch = scaled_train[-n_input:]\n",
    "current_batch = first_eval_batch.reshape((1, n_input, n_features))\n",
    "\n",
    "for i in range(len(test)):\n",
    "    \n",
    "    # get the prediction value for the first batch\n",
    "    current_pred = model.predict(current_batch)[0]\n",
    "    \n",
    "    # append the prediction into the array\n",
    "    test_predictions.append(current_pred) \n",
    "    \n",
    "    # use the prediction to update the batch and remove the first value\n",
    "    current_batch = np.append(current_batch[:,1:,:],[[current_pred]],axis=1)"
   ]
  },
  {
   "cell_type": "code",
   "execution_count": null,
   "id": "73eb125d",
   "metadata": {},
   "outputs": [],
   "source": [
    "test_predictions"
   ]
  },
  {
   "cell_type": "code",
   "execution_count": null,
   "id": "eeb5f4cb",
   "metadata": {},
   "outputs": [],
   "source": [
    "test.head()"
   ]
  },
  {
   "cell_type": "code",
   "execution_count": null,
   "id": "b32f268b",
   "metadata": {},
   "outputs": [],
   "source": [
    "true_predictions = scaler.inverse_transform(test_predictions)"
   ]
  },
  {
   "cell_type": "code",
   "execution_count": null,
   "id": "6a34a236",
   "metadata": {},
   "outputs": [],
   "source": [
    "test['Predictions'] = true_predictions"
   ]
  },
  {
   "cell_type": "code",
   "execution_count": null,
   "id": "c9a809d1",
   "metadata": {},
   "outputs": [],
   "source": [
    "test.head()"
   ]
  },
  {
   "cell_type": "code",
   "execution_count": null,
   "id": "c70a88f0",
   "metadata": {},
   "outputs": [],
   "source": [
    "import matplotlib.pyplot as plt \n",
    "plt.plot(test['Production'].values,label=\"actual\")\n",
    "plt.plot(test['Predictions'].values,label=\"predictions\")\n",
    "plt.legend()\n",
    "plt.show()"
   ]
  }
 ],
 "metadata": {
  "kernelspec": {
   "display_name": "Python 3 (ipykernel)",
   "language": "python",
   "name": "python3"
  },
  "language_info": {
   "codemirror_mode": {
    "name": "ipython",
    "version": 3
   },
   "file_extension": ".py",
   "mimetype": "text/x-python",
   "name": "python",
   "nbconvert_exporter": "python",
   "pygments_lexer": "ipython3",
   "version": "3.11.5"
  }
 },
 "nbformat": 4,
 "nbformat_minor": 5
}
